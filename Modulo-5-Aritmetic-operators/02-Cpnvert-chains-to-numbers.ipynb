{
 "cells": [
  {
   "cell_type": "markdown",
   "metadata": {},
   "source": [
    "# Ejercicio 2: convierte cadenas en números y usa valores absolutos"
   ]
  },
  {
   "cell_type": "code",
   "execution_count": 13,
   "metadata": {},
   "outputs": [
    {
     "name": "stdout",
     "output_type": "stream",
     "text": [
      "628949330\n",
      "390577534\n"
     ]
    }
   ],
   "source": [
    "#define\n",
    "distance_planet_one = input('Ingresa el planeta 1')\n",
    "distance_planet_two = input('Ingresa el planeta 2')\n",
    "\n",
    "#make int\n",
    "planet_one = int( distance_planet_one )\n",
    "planet_two = int( distance_planet_two )\n",
    "\n",
    "#less calc\n",
    "km_result = planet_two - planet_one\n",
    "\n",
    "#miles\n",
    "mi_result = km_result * 0.621\n",
    "\n",
    "print(km_result)\n",
    "print(round(mi_result))\n"
   ]
  }
 ],
 "metadata": {
  "interpreter": {
   "hash": "656ac3a97856ff624f2431a0f2e43c2743e23738aecdbfcc31e760e76f5335e8"
  },
  "kernelspec": {
   "display_name": "Python 3.10.2 64-bit (windows store)",
   "language": "python",
   "name": "python3"
  },
  "language_info": {
   "codemirror_mode": {
    "name": "ipython",
    "version": 3
   },
   "file_extension": ".py",
   "mimetype": "text/x-python",
   "name": "python",
   "nbconvert_exporter": "python",
   "pygments_lexer": "ipython3",
   "version": "3.10.2"
  },
  "orig_nbformat": 4
 },
 "nbformat": 4,
 "nbformat_minor": 2
}
