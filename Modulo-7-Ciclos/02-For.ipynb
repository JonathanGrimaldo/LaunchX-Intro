{
 "cells": [
  {
   "cell_type": "markdown",
   "metadata": {},
   "source": [
    "# Ejercicio 2: Creación de un ciclo \"for\""
   ]
  },
  {
   "cell_type": "code",
   "execution_count": 1,
   "metadata": {},
   "outputs": [
    {
     "name": "stdout",
     "output_type": "stream",
     "text": [
      "Jupiter\n",
      "Saturno\n",
      "Marte\n"
     ]
    }
   ],
   "source": [
    "planets = []\n",
    "new_planet =''\n",
    "\n",
    "#ADD PLANETS BY USER\n",
    "while new_planet.lower() !='done':\n",
    "    if new_planet:\n",
    "        planets.append(new_planet)\n",
    "        #print(planets)\n",
    "    new_planet = input('Ingresa un planeta')\n",
    "\n",
    "#SHOW LIST\n",
    "for planet in planets:\n",
    "    print(planet)"
   ]
  }
 ],
 "metadata": {
  "interpreter": {
   "hash": "656ac3a97856ff624f2431a0f2e43c2743e23738aecdbfcc31e760e76f5335e8"
  },
  "kernelspec": {
   "display_name": "Python 3.10.2 64-bit (windows store)",
   "language": "python",
   "name": "python3"
  },
  "language_info": {
   "codemirror_mode": {
    "name": "ipython",
    "version": 3
   },
   "file_extension": ".py",
   "mimetype": "text/x-python",
   "name": "python",
   "nbconvert_exporter": "python",
   "pygments_lexer": "ipython3",
   "version": "3.10.2"
  },
  "orig_nbformat": 4
 },
 "nbformat": 4,
 "nbformat_minor": 2
}
