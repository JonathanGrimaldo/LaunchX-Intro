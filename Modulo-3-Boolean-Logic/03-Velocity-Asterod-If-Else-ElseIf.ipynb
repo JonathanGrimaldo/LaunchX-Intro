{
 "cells": [
  {
   "cell_type": "markdown",
   "metadata": {},
   "source": [
    "# Tamaño - velocidad de un asteroide "
   ]
  },
  {
   "cell_type": "code",
   "execution_count": 5,
   "metadata": {},
   "outputs": [
    {
     "name": "stdout",
     "output_type": "stream",
     "text": [
      "Alerta, un asteroide muy peligroso viene hacia la Tierra!\n"
     ]
    }
   ],
   "source": [
    "velocity_asteroid    = 30\n",
    "size_asteroid        = 40\n",
    "\n",
    "# SI son menores a 25 todo OK\n",
    "if velocity_asteroid > 25 and size_asteroid > 25:\n",
    "    print('Alerta, un asteroide muy peligroso viene hacia la Tierra!')\n",
    "elif velocity_asteroid >= 20:\n",
    "    print('Mira una luz en el cielo!!')\n",
    "elif( size_asteroid < 25):\n",
    "    print('Nada que ver aqui')\n",
    "else:\n",
    "    print('Nada que ver aqui')"
   ]
  }
 ],
 "metadata": {
  "interpreter": {
   "hash": "656ac3a97856ff624f2431a0f2e43c2743e23738aecdbfcc31e760e76f5335e8"
  },
  "kernelspec": {
   "display_name": "Python 3.10.2 64-bit (windows store)",
   "language": "python",
   "name": "python3"
  },
  "language_info": {
   "codemirror_mode": {
    "name": "ipython",
    "version": 3
   },
   "file_extension": ".py",
   "mimetype": "text/x-python",
   "name": "python",
   "nbconvert_exporter": "python",
   "pygments_lexer": "ipython3",
   "version": "3.10.2"
  },
  "orig_nbformat": 4
 },
 "nbformat": 4,
 "nbformat_minor": 2
}
